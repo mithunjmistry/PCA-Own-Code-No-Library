{
 "cells": [
  {
   "cell_type": "code",
   "execution_count": 1,
   "metadata": {
    "collapsed": true
   },
   "outputs": [],
   "source": [
    "import numpy as np"
   ]
  },
  {
   "cell_type": "code",
   "execution_count": 2,
   "metadata": {},
   "outputs": [],
   "source": [
    "class OwnPCA:\n",
    "    def __init__(self, ip, n = None):\n",
    "        self.ip = ip\n",
    "        if n is not None:\n",
    "            self.n = n\n",
    "        else:\n",
    "            self.n = ip.shape[1]\n",
    "\n",
    "    def pca(self):\n",
    "        #normalize matrix\n",
    "        self.normalize_ip = self.ip - self.ip.mean(axis=0) \n",
    "        #Step 1 - Find co-variance of the matrix\n",
    "        self.covariance = np.cov(self.ip.T)\n",
    "        #Step - 2 - Find eigenvalues and eigenvectors\n",
    "        self.eigenvalues, self.eigenvectors = np.linalg.eig(self.covariance)\n",
    "        #eigenvalues in descending order\n",
    "        idx = self.eigenvalues.argsort()[::-1]   \n",
    "        self.eigenvalues = self.eigenvalues[idx]\n",
    "        self.eigenvectors = self.eigenvectors[:,idx]\n",
    "        #Step - 3 - Take the first n principle components stated by user\n",
    "        self.eigenvectors = self.eigenvectors[:,:self.n]\n",
    "        #Step - 4 - Find scores by multiplying it with data\n",
    "        scores = np.dot(self.normalize_ip, self.eigenvectors)\n",
    "        return scores\n",
    "    \n",
    "    def getCovariance(self):\n",
    "        return self.covariance\n",
    "    \n",
    "    def getEigenvalues(self):\n",
    "        return self.eigenvalues\n",
    "    \n",
    "    def getEigenvectors(self):\n",
    "        return self.eigenvectors\n",
    "    \n",
    "    def getAllValues(self):\n",
    "        return self.covariance, self.eigenvalues, self.eigenvectors"
   ]
  },
  {
   "cell_type": "code",
   "execution_count": 9,
   "metadata": {},
   "outputs": [],
   "source": [
    "data = np.mat(\"2.5 2.4; 0.5 0.7; 2.2 2.9; 1.9 2.2; 3.1 3.0; 2.3 2.7; 2.0 1.6; 1.0 1.1; 1.5 1.6; 1.1 0.9\")"
   ]
  },
  {
   "cell_type": "code",
   "execution_count": 10,
   "metadata": {},
   "outputs": [
    {
     "data": {
      "text/plain": [
       "matrix([[ 2.5,  2.4],\n        [ 0.5,  0.7],\n        [ 2.2,  2.9],\n        [ 1.9,  2.2],\n        [ 3.1,  3. ],\n        [ 2.3,  2.7],\n        [ 2. ,  1.6],\n        [ 1. ,  1.1],\n        [ 1.5,  1.6],\n        [ 1.1,  0.9]])"
      ]
     },
     "execution_count": 10,
     "metadata": {},
     "output_type": "execute_result"
    }
   ],
   "source": [
    "data"
   ]
  },
  {
   "cell_type": "code",
   "execution_count": 11,
   "metadata": {},
   "outputs": [
    {
     "data": {
      "text/plain": [
       "matrix([[-0.82797019, -0.17511531],\n        [ 1.77758033,  0.14285723],\n        [-0.99219749,  0.38437499],\n        [-0.27421042,  0.13041721],\n        [-1.67580142, -0.20949846],\n        [-0.9129491 ,  0.17528244],\n        [ 0.09910944, -0.3498247 ],\n        [ 1.14457216,  0.04641726],\n        [ 0.43804614,  0.01776463],\n        [ 1.22382056, -0.16267529]])"
      ]
     },
     "execution_count": 11,
     "metadata": {},
     "output_type": "execute_result"
    }
   ],
   "source": [
    "own_pca = OwnPCA(data)\n",
    "answer = own_pca.pca()\n",
    "answer"
   ]
  },
  {
   "cell_type": "code",
   "execution_count": 12,
   "metadata": {},
   "outputs": [
    {
     "data": {
      "text/plain": [
       "2"
      ]
     },
     "execution_count": 12,
     "metadata": {},
     "output_type": "execute_result"
    }
   ],
   "source": [
    "data.shape[1]"
   ]
  },
  {
   "cell_type": "code",
   "execution_count": 46,
   "metadata": {},
   "outputs": [],
   "source": [
    "import pandas as pd"
   ]
  },
  {
   "cell_type": "code",
   "execution_count": 47,
   "metadata": {},
   "outputs": [],
   "source": [
    "test_data = pd.read_csv(r\"C:\\Users\\Mithun\\PycharmProjects\\mlclassroom\\sclc_study_output.csv\")"
   ]
  },
  {
   "cell_type": "code",
   "execution_count": 90,
   "metadata": {},
   "outputs": [
    {
     "data": {
      "text/plain": [
       "array([[  171210.5829 ,  1246686.524  ,   527193.487  , ...,\n          259889.4715 ,  1563879.456  ,   189971.5111 ],\n       [  204751.3591 ,  1338013.461  ,   571379.0841 , ...,\n          363398.5823 ,   304311.3998 ,    35762.79339],\n       [  203558.4952 ,  1040438.105  ,   498460.6875 , ...,\n          417606.081  ,   436556.8065 ,    53865.65208],\n       ..., \n       [  204221.0677 ,  1278411.147  ,   566328.7108 , ...,\n          148904.9146 ,   708831.1396 ,   121367.7799 ],\n       [  175149.2572 ,  1101994.558  ,   175843.386  , ...,\n          144382.0813 ,    77809.90877,   287232.319  ],\n       [  225370.32   ,  1407596.388  ,        0.     , ...,\n          115385.9564 ,    61827.40414,   176777.0753 ]])"
      ]
     },
     "execution_count": 90,
     "metadata": {},
     "output_type": "execute_result"
    }
   ],
   "source": [
    "test_data.values"
   ]
  },
  {
   "cell_type": "code",
   "execution_count": 49,
   "metadata": {},
   "outputs": [
    {
     "data": {
      "text/plain": [
       "array([[  171210.5829 ,  1246686.524  ,   527193.487  , ...,\n          259889.4715 ,  1563879.456  ,   189971.5111 ],\n       [  204751.3591 ,  1338013.461  ,   571379.0841 , ...,\n          363398.5823 ,   304311.3998 ,    35762.79339],\n       [  203558.4952 ,  1040438.105  ,   498460.6875 , ...,\n          417606.081  ,   436556.8065 ,    53865.65208],\n       ..., \n       [  204221.0677 ,  1278411.147  ,   566328.7108 , ...,\n          148904.9146 ,   708831.1396 ,   121367.7799 ],\n       [  175149.2572 ,  1101994.558  ,   175843.386  , ...,\n          144382.0813 ,    77809.90877,   287232.319  ],\n       [  225370.32   ,  1407596.388  ,        0.     , ...,\n          115385.9564 ,    61827.40414,   176777.0753 ]])"
      ]
     },
     "execution_count": 49,
     "metadata": {},
     "output_type": "execute_result"
    }
   ],
   "source": [
    "test_data.drop(test_data.columns[0], axis=1, inplace=True)\n",
    "# #Removed non-numeric items\n",
    "tdata = test_data.values\n",
    "tdata"
   ]
  },
  {
   "cell_type": "code",
   "execution_count": 53,
   "metadata": {},
   "outputs": [],
   "source": [
    "own_pca_testdata = OwnPCA(tdata)"
   ]
  },
  {
   "cell_type": "code",
   "execution_count": 54,
   "metadata": {},
   "outputs": [],
   "source": [
    "own_scores = own_pca_testdata.pca()"
   ]
  },
  {
   "cell_type": "code",
   "execution_count": 55,
   "metadata": {},
   "outputs": [
    {
     "data": {
      "text/plain": [
       "array([[  1.69371410e+06 +0.00000000e+00j,\n         -6.38909145e+05 +0.00000000e+00j,\n         -1.12019839e+05 +0.00000000e+00j, ...,\n         -7.64511692e-10 +2.88512940e-09j,\n          8.73465983e-10 -2.35433306e-09j,\n          8.86426283e-10 +2.35342356e-09j],\n       [  1.57278283e+06 +0.00000000e+00j,\n         -2.06667774e+05 +0.00000000e+00j,\n          1.41375294e+06 +0.00000000e+00j, ...,\n          1.81990367e-09 +4.21865759e-10j,\n          1.52056742e-09 +7.39552183e-10j,\n          1.49629528e-09 -7.40234304e-10j],\n       [  1.71909362e+06 +0.00000000e+00j,\n         -2.52991048e+05 +0.00000000e+00j,\n          1.40130898e+06 +0.00000000e+00j, ...,\n         -1.17082677e-09 -1.23534207e-09j,\n         -1.58869161e-09 -7.84832634e-11j,\n         -1.60725098e-09 +7.05251848e-11j],\n       ..., \n       [ -6.83987938e+05 +0.00000000e+00j,\n         -1.19272386e+06 +0.00000000e+00j,\n         -8.00012032e+05 +0.00000000e+00j, ...,\n         -9.11015449e-10 -5.10705897e-10j,\n         -8.83472143e-10 +4.95930747e-10j,\n         -8.73183484e-10 -4.99568726e-10j],\n       [ -1.25666200e+06 +0.00000000e+00j,\n         -1.87411748e+05 +0.00000000e+00j,\n          1.05631457e+05 +0.00000000e+00j, ...,\n          1.54583564e-09 -3.56516448e-09j,\n          2.25036859e-10 +2.75491491e-09j,\n          2.78355986e-10 -2.75400542e-09j],\n       [ -1.47209710e+06 +0.00000000e+00j,\n         -6.26863471e+05 +0.00000000e+00j,\n         -8.73295439e+04 +0.00000000e+00j, ...,\n         -9.81092028e-10 +1.94283947e-09j,\n         -3.72629907e-10 -1.19217600e-09j,\n         -4.12306613e-10 +1.18171681e-09j]])"
      ]
     },
     "execution_count": 55,
     "metadata": {},
     "output_type": "execute_result"
    }
   ],
   "source": [
    "own_scores\n",
    "#first done using normalized, non normalized is done below. All answers are therefore \n",
    "#for standardized as it is usual method of PCA"
   ]
  },
  {
   "cell_type": "code",
   "execution_count": 17,
   "metadata": {},
   "outputs": [],
   "source": [
    "#pca_sklearn = decomposition.PCA(2)"
   ]
  },
  {
   "cell_type": "code",
   "execution_count": 18,
   "metadata": {},
   "outputs": [
    {
     "data": {
      "text/plain": [
       "PCA(copy=True, iterated_power='auto', n_components=2, random_state=None,\n  svd_solver='auto', tol=0.0, whiten=False)"
      ]
     },
     "execution_count": 18,
     "metadata": {},
     "output_type": "execute_result"
    }
   ],
   "source": [
    "#pca_sklearn.fit(tdata)"
   ]
  },
  {
   "cell_type": "code",
   "execution_count": 19,
   "metadata": {},
   "outputs": [],
   "source": [
    "#X = pca_sklearn.transform(tdata)"
   ]
  },
  {
   "cell_type": "code",
   "execution_count": 20,
   "metadata": {},
   "outputs": [
    {
     "data": {
      "text/plain": [
       "array([[ -1.75681915e+00,  -2.20257289e-03],\n       [ -8.88177567e-01,  -1.64657996e-02],\n       [  5.26487022e-02,   4.46783426e-01],\n       ..., \n       [  3.60428154e-01,  -3.45422947e-01],\n       [ -2.86808081e+00,   3.85070743e-01],\n       [  1.52319700e+00,   1.45746184e-01]])"
      ]
     },
     "execution_count": 20,
     "metadata": {},
     "output_type": "execute_result"
    }
   ],
   "source": [
    "#X\n",
    "#Just for verification - not needed"
   ]
  },
  {
   "cell_type": "code",
   "execution_count": 56,
   "metadata": {},
   "outputs": [],
   "source": [
    "import matplotlib.pyplot as plt"
   ]
  },
  {
   "cell_type": "code",
   "execution_count": 57,
   "metadata": {},
   "outputs": [],
   "source": [
    "%matplotlib inline"
   ]
  },
  {
   "cell_type": "code",
   "execution_count": 125,
   "metadata": {},
   "outputs": [
    {
     "name": "stderr",
     "output_type": "stream",
     "text": [
      "C:\\ProgramData\\Miniconda3\\lib\\site-packages\\numpy\\core\\numeric.py:583: ComplexWarning:\n\nCasting complex values to real discards the imaginary part\n\n"
     ]
    },
    {
     "data": {
      "image/png": "[encoded data removed]",
      "text/plain": [
       "<matplotlib.figure.Figure at 0x22911db4898>"
      ]
     },
     "metadata": {},
     "output_type": "display_data"
    }
   ],
   "source": [
    "plt.scatter(own_scores[:20,0], own_scores[:20,1], cmap=\"rainbow\")\n",
    "plt.scatter(own_scores[21:40,0], own_scores[21:40,1])\n",
    "plt.show()\n",
    "#Score plots in different colors."
   ]
  },
  {
   "cell_type": "code",
   "execution_count": 59,
   "metadata": {},
   "outputs": [
    {
     "data": {
      "text/plain": [
       "array([[ 0.00793051+0.j        , -0.02839977+0.j        ,\n        -0.00128957+0.j        , ..., -0.02069904-0.07879285j,\n        -0.06987386+0.02464488j, -0.06987386-0.02464488j],\n       [-0.02323800+0.j        , -0.03991614+0.j        ,\n         0.01754063+0.j        , ..., -0.00148154+0.0029995j ,\n         0.00626392-0.00615178j,  0.00626392+0.00615178j],\n       [ 0.00432458+0.j        ,  0.04716502+0.j        ,\n        -0.00301494+0.j        , ...,  0.00742841-0.00787899j,\n         0.00104540+0.00358406j,  0.00104540-0.00358406j],\n       ..., \n       [ 0.05130296+0.j        , -0.05759638+0.j        ,\n         0.05277330+0.j        , ...,  0.00616126-0.00423349j,\n         0.02973602-0.01947976j,  0.02973602+0.01947976j],\n       [ 0.32860836+0.j        , -0.12253561+0.j        ,\n        -0.22866486+0.j        , ...,  0.00127319+0.01166726j,\n        -0.00512789-0.00878837j, -0.00512789+0.00878837j],\n       [-0.01606034+0.j        , -0.04003940+0.j        ,\n        -0.01020451+0.j        , ...,  0.00392621-0.04305807j,\n         0.00470806+0.0292502j ,  0.00470806-0.0292502j ]])"
      ]
     },
     "execution_count": 59,
     "metadata": {},
     "output_type": "execute_result"
    }
   ],
   "source": [
    "own_pca_testdata.getEigenvectors()"
   ]
  },
  {
   "cell_type": "code",
   "execution_count": 60,
   "metadata": {},
   "outputs": [
    {
     "data": {
      "text/html": [
       "<script>requirejs.config({paths: { 'plotly': ['https://cdn.plot.ly/plotly-latest.min']},});if(!window.Plotly) {{require(['plotly'],function(plotly) {window.Plotly=plotly;});}}</script>"
      ],
      "text/plain": [
       "<script>requirejs.config({paths: { 'plotly': ['https://cdn.plot.ly/plotly-latest.min']},});if(!window.Plotly) {{require(['plotly'],function(plotly) {window.Plotly=plotly;});}}</script>"
      ]
     },
     "execution_count": 0,
     "metadata": {},
     "output_type": "execute_result"
    }
   ],
   "source": [
    "from plotly import __version__\n",
    "from plotly.offline import download_plotlyjs, init_notebook_mode, plot, iplot\n",
    "\n",
    "import cufflinks as cf\n",
    "init_notebook_mode(connected=True)\n",
    "cf.go_offline()\n",
    "\n",
    "#In case want to use plotly for visualization. I will do it using Seaborn."
   ]
  },
  {
   "cell_type": "code",
   "execution_count": 61,
   "metadata": {},
   "outputs": [],
   "source": [
    "%matplotlib inline"
   ]
  },
  {
   "cell_type": "code",
   "execution_count": 62,
   "metadata": {},
   "outputs": [],
   "source": [
    "#"
   ]
  },
  {
   "cell_type": "code",
   "execution_count": 30,
   "metadata": {},
   "outputs": [],
   "source": [
    "#Uncomment below code to view data in 3D plot"
   ]
  },
  {
   "cell_type": "code",
   "execution_count": 63,
   "metadata": {
    "collapsed": false
   },
   "outputs": [],
   "source": [
    "# import matplotlib.pyplot as plt\n",
    "# from mpl_toolkits.mplot3d import Axes3D\n",
    "# fig = plt.figure()\n",
    "# ax = fig.add_subplot(111, projection='3d')\n",
    "# ax.scatter(own_scores[:,0],own_scores[:,1], own_scores[:,2])\n",
    "# ax.plot(own_pca_testdata.getEigenvectors()[0], \n",
    "#         own_pca_testdata.getEigenvectors()[1], \n",
    "#         own_pca_testdata.getEigenvectors()[2], \"r\")"
   ]
  },
  {
   "cell_type": "code",
   "execution_count": 42,
   "metadata": {},
   "outputs": [
    {
     "data": {
      "text/plain": [
       "0.0044870530107291567"
      ]
     },
     "execution_count": 42,
     "metadata": {},
     "output_type": "execute_result"
    }
   ],
   "source": [
    "own_pca_testdata.getEigenvectors()[0][1]"
   ]
  },
  {
   "cell_type": "code",
   "execution_count": 43,
   "metadata": {},
   "outputs": [
    {
     "data": {
      "text/plain": [
       "0.98203350585526439"
      ]
     },
     "execution_count": 43,
     "metadata": {},
     "output_type": "execute_result"
    }
   ],
   "source": [
    "own_pca_testdata.getEigenvectors()[1][0]"
   ]
  },
  {
   "cell_type": "code",
   "execution_count": 64,
   "metadata": {},
   "outputs": [],
   "source": [
    "import seaborn as sns"
   ]
  },
  {
   "cell_type": "code",
   "execution_count": 67,
   "metadata": {},
   "outputs": [
    {
     "data": {
      "text/plain": [
       "array([0, 1, 2])"
      ]
     },
     "execution_count": 67,
     "metadata": {},
     "output_type": "execute_result"
    }
   ],
   "source": [
    "#We will plot using seaborn library."
   ]
  },
  {
   "cell_type": "code",
   "execution_count": 65,
   "metadata": {},
   "outputs": [],
   "source": [
    "performance = [i/sum(own_pca_testdata.getEigenvalues())*100 for i in own_pca_testdata.getEigenvalues()]"
   ]
  },
  {
   "cell_type": "code",
   "execution_count": 93,
   "metadata": {},
   "outputs": [],
   "source": [
    "performance\n",
    "x_pos = np.arange(len(performance))"
   ]
  },
  {
   "cell_type": "code",
   "execution_count": 69,
   "metadata": {},
   "outputs": [
    {
     "name": "stderr",
     "output_type": "stream",
     "text": [
      "C:\\ProgramData\\Miniconda3\\lib\\site-packages\\numpy\\core\\numeric.py:531: ComplexWarning:\n\nCasting complex values to real discards the imaginary part\n\nC:\\ProgramData\\Miniconda3\\lib\\site-packages\\matplotlib\\patches.py:693: ComplexWarning:\n\nCasting complex values to real discards the imaginary part\n\n"
     ]
    },
    {
     "data": {
      "text/plain": [
       "<matplotlib.axes._subplots.AxesSubplot at 0x2291057b3c8>"
      ]
     },
     "execution_count": 69,
     "metadata": {},
     "output_type": "execute_result"
    },
    {
     "data": {
      "image/png": "[encoded data removed]",
      "text/plain": [
       "<matplotlib.figure.Figure at 0x22908e8dd30>"
      ]
     },
     "metadata": {},
     "output_type": "display_data"
    }
   ],
   "source": [
    "#Here we can see we need first 4 PCA to cover 75% data\n",
    "sns.barplot(x_pos, performance)"
   ]
  },
  {
   "cell_type": "code",
   "execution_count": 72,
   "metadata": {},
   "outputs": [
    {
     "data": {
      "text/plain": [
       "matrix([[  2.47165734e+09,   2.00766213e+10,   2.13035355e+10,\n           9.37311752e+09,   1.17858371e+08,   3.23790516e+08,\n           2.69112561e+09,   1.83153938e+09,   4.88534283e+10,\n           7.30236687e+08,   5.36680732e+09,   4.94528921e+08,\n           3.13201153e+09,   5.82860453e+09,   2.24116657e+11,\n           2.18692288e+11,   2.28024889e+10,   1.87368067e+11,\n           9.71834433e+09,   2.07379324e+10,   2.25958807e+11,\n           1.71871082e+10,   3.59751203e+10,   1.14226717e+10,\n           1.71869635e+11,   1.97632405e+10,   9.90552117e+10,\n           1.33900309e+10,   1.18941975e+11,   1.75473172e+10,\n           3.15830628e+08,   4.08427131e+09,   6.11056441e+09,\n           2.74044996e+11,   2.30832382e+09,   4.13485872e+10,\n           6.80775761e+09,   1.96176184e+11,   2.92298312e+10,\n           9.20293719e+08,   4.90106266e+11,   4.64727733e+10,\n           1.46797869e+09,   2.40937214e+09,   3.09271075e+11,\n           6.23320459e+10,   1.03583298e+10,   2.49774904e+11,\n           3.91142591e+09]])"
      ]
     },
     "execution_count": 72,
     "metadata": {},
     "output_type": "execute_result"
    }
   ],
   "source": [
    "mean_matrix = np.mean(np.mat(tdata),0)\n",
    "variance_input = np.mean(np.square(np.subtract(tdata,mean_matrix)),0)\n",
    "variance_input"
   ]
  },
  {
   "cell_type": "code",
   "execution_count": 84,
   "metadata": {},
   "outputs": [],
   "source": [
    "from sklearn import decomposition\n",
    "pca = decomposition.PCA()\n",
    "X = pca.fit(tdata)\n",
    "Y = pca.transform(tdata, X)"
   ]
  },
  {
   "cell_type": "code",
   "execution_count": 85,
   "metadata": {},
   "outputs": [
    {
     "data": {
      "text/plain": [
       "array([[  1.69371410e+06,  -6.38909145e+05,  -1.12019839e+05, ...,\n          1.89622461e+03,  -2.96483187e+03,   3.87877820e-11],\n       [  1.57278283e+06,  -2.06667774e+05,   1.41375294e+06, ...,\n          1.92241319e+03,  -1.02138904e+03,   1.97929749e-10],\n       [  1.71909362e+06,  -2.52991048e+05,   1.40130898e+06, ...,\n         -2.22735368e+03,   1.17904047e+03,   5.81373767e-11],\n       ..., \n       [ -6.83987938e+05,  -1.19272386e+06,  -8.00012032e+05, ...,\n         -1.07421126e+03,  -1.97130386e+02,   4.57487547e-11],\n       [ -1.25666200e+06,  -1.87411748e+05,   1.05631457e+05, ...,\n          7.51631109e+02,   3.45335883e+03,   1.39161066e-10],\n       [ -1.47209710e+06,  -6.26863471e+05,  -8.73295439e+04, ...,\n         -4.75834426e+02,  -3.18415208e+03,   1.67330394e-10]])"
      ]
     },
     "execution_count": 85,
     "metadata": {},
     "output_type": "execute_result"
    }
   ],
   "source": [
    "Y #To verify, answer matches with scikit learn"
   ]
  },
  {
   "cell_type": "code",
   "execution_count": 138,
   "metadata": {},
   "outputs": [
    {
     "data": {
      "text/plain": [
       "array([  2.53503317e+09,   2.05914064e+10,   2.18497800e+10,\n         9.61345387e+09,   1.20880381e+08,   3.32092837e+08,\n         2.76012883e+09,   1.87850192e+09,   5.01060803e+10,\n         7.48960704e+08,   5.50441777e+09,   5.07209150e+08,\n         3.21231952e+09,   5.97805593e+09,   2.29863238e+11,\n         2.24299783e+11,   2.33871681e+10,   1.92172377e+11,\n         9.96753265e+09,   2.12696743e+10,   2.31752622e+11,\n         1.76278032e+10,   3.68975593e+10,   1.17155608e+10,\n         1.76276548e+11,   2.02699902e+10,   1.01595089e+11,\n         1.37333651e+10,   1.21991769e+11,   1.79972484e+10,\n         3.23928849e+08,   4.18899622e+09,   6.26724555e+09,\n         2.81071791e+11,   2.36751161e+09,   4.24088074e+10,\n         6.98231550e+09,   2.01206342e+11,   2.99793141e+10,\n         9.43890994e+08,   5.02673093e+11,   4.76643829e+10,\n         1.50561917e+09,   2.47115091e+09,   3.17201102e+11,\n         6.39303035e+10,   1.06239280e+10,   2.56179389e+11,\n         4.01171889e+09])"
      ]
     },
     "execution_count": 138,
     "metadata": {},
     "output_type": "execute_result"
    }
   ],
   "source": [
    "#variance is diagonal\n",
    "np.cov(tdata, rowvar=False).diagonal()"
   ]
  },
  {
   "cell_type": "code",
   "execution_count": 98,
   "metadata": {},
   "outputs": [
    {
     "data": {
      "text/plain": [
       "array([ 0.01859618+0.j,  0.01739323+0.j,  0.01981016+0.j,  0.02048896+0.j,\n        0.01957099+0.j,  0.02083327+0.j,  0.02031818+0.j,  0.02006244+0.j,\n        0.02067841+0.j,  0.01947815+0.j,  0.02080518+0.j,  0.01996996+0.j,\n        0.02082916+0.j,  0.02047573+0.j,  0.02083236+0.j,  0.02032021+0.j,\n        0.02054472+0.j,  0.02039606+0.j,  0.01999227+0.j,  0.02082523+0.j,\n        0.02083282+0.j,  0.02003001+0.j,  0.02075495+0.j,  0.02064342+0.j,\n        0.02082647+0.j,  0.01983035+0.j,  0.02038730+0.j,  0.02075137+0.j,\n        0.02047213+0.j,  0.02079845+0.j,  0.02068777+0.j,  0.02065065+0.j,\n        0.02033773+0.j,  0.02053938+0.j,  0.02050738+0.j,  0.02080536+0.j,\n        0.02054354+0.j,  0.02077953+0.j,  0.02054342+0.j,  0.02079180+0.j,\n        0.02079180+0.j,  0.02059459+0.j,  0.02080055+0.j,  0.02079633+0.j,\n        0.02079633+0.j,  0.02076198+0.j,  0.02076198+0.j,  0.02059065+0.j,\n        0.02059065+0.j])"
      ]
     },
     "execution_count": 98,
     "metadata": {},
     "output_type": "execute_result"
    }
   ],
   "source": [
    "np.cov(own_pca_testdata.getEigenvectors(), rowvar=False).diagonal()\n",
    "#The variance of principal component and original data is not same"
   ]
  },
  {
   "cell_type": "code",
   "execution_count": 102,
   "metadata": {},
   "outputs": [
    {
     "data": {
      "text/plain": [
       "array([[ 0.01859618+0.j,  0.00277417+0.j],\n       [ 0.00277417+0.j,  0.01739323+0.j]])"
      ]
     },
     "execution_count": 102,
     "metadata": {},
     "output_type": "execute_result"
    }
   ],
   "source": [
    "np.cov(own_pca_testdata.getEigenvectors()[:,:2], rowvar=False)\n",
    "#Co-variance between two principal components is 0.00277"
   ]
  },
  {
   "cell_type": "code",
   "execution_count": 103,
   "metadata": {},
   "outputs": [
    {
     "data": {
      "text/plain": [
       "[(40.063899943904438+0j),\n (14.90897134057095+0j),\n (12.996709872406525+0j),\n (9.5348712301466989+0j),\n (6.4404292346208107+0j),\n (3.8147042357559919+0j),\n (2.8828684990928015+0j),\n (2.227699929068097+0j),\n (1.6360170455751757+0j),\n (1.2773307107164396+0j),\n (0.95174613997732804+0j),\n (0.63739437145014433+0j),\n (0.5725040317112523+0j),\n (0.49858974704220377+0j),\n (0.38392465956878996+0j),\n (0.24285880979910299+0j),\n (0.1965329456257269+0j),\n (0.16359056301569547+0j),\n (0.147599433149875+0j),\n (0.13251619459364827+0j),\n (0.071448631909356533+0j),\n (0.047784278396209245+0j),\n (0.039347113610501368+0j),\n (0.027788784263992342+0j),\n (0.022845018724659612+0j),\n (0.017865074672374644+0j),\n (0.015541965167145693+0j),\n (0.011386482189973889+0j),\n (0.0086014789989614163+0j),\n (0.0067056437851393683+0j),\n (0.0059287089617066861+0j),\n (0.0045253565664204205+0j),\n (0.0034271909916841082+0j),\n (0.0022025186833857465+0j),\n (0.001428928383934137+0j),\n (0.0010147308238427494+0j),\n (0.00084578814567382954+0j),\n (0.00037734482599004909+0j),\n (0.00017602310736108379+0j),\n (8.6231917562258503e-16+4.9419236255317516e-16j),\n (8.6231917562258503e-16-4.9419236255317516e-16j),\n (5.6297686671903185e-16+0j),\n (1.7637658268607295e-16+0j),\n (3.3853688966866379e-17+2.1114222065236611e-16j),\n (3.3853688966866379e-17-2.1114222065236611e-16j),\n (-1.475818196299092e-16+2.1009083054837281e-16j),\n (-1.475818196299092e-16-2.1009083054837281e-16j),\n (-2.4625455278232748e-16+9.4686119334420909e-17j),\n (-2.4625455278232748e-16-9.4686119334420909e-17j)]"
      ]
     },
     "execution_count": 103,
     "metadata": {},
     "output_type": "execute_result"
    }
   ],
   "source": [
    "performance\n",
    "#As shown in plot above, and now in numeric, we need first 4 principal component for 75% data"
   ]
  },
  {
   "cell_type": "code",
   "execution_count": 106,
   "metadata": {},
   "outputs": [
    {
     "name": "stderr",
     "output_type": "stream",
     "text": [
      "C:\\ProgramData\\Miniconda3\\lib\\site-packages\\numpy\\core\\numeric.py:583: ComplexWarning:\n\nCasting complex values to real discards the imaginary part\n\n"
     ]
    },
    {
     "data": {
      "image/png": "[encoded data removed]",
      "text/plain": [
       "<matplotlib.figure.Figure at 0x22911d12128>"
      ]
     },
     "metadata": {},
     "output_type": "display_data"
    }
   ],
   "source": [
    "plt.scatter(own_pca_testdata.getEigenvectors()[:,0], own_pca_testdata.getEigenvectors()[:,1], cmap=\"rainbow\")\n",
    "plt.show()\n",
    "#Loadings plot"
   ]
  },
  {
   "cell_type": "code",
   "execution_count": 114,
   "metadata": {},
   "outputs": [],
   "source": [
    "class OwnPCANonStandard:\n",
    "    def __init__(self, ip, n = None):\n",
    "        self.ip = ip\n",
    "        if n is not None:\n",
    "            self.n = n\n",
    "        else:\n",
    "            self.n = ip.shape[1]\n",
    "\n",
    "    def pca(self):\n",
    "        #normalize matrix\n",
    "        # self.normalize_ip = self.ip - self.ip.mean(axis=0) \n",
    "        #Step 1 - Find co-variance of the matrix\n",
    "        self.covariance = np.cov(self.ip.T)\n",
    "        #Step - 2 - Find eigenvalues and eigenvectors\n",
    "        self.eigenvalues, self.eigenvectors = np.linalg.eig(self.covariance)\n",
    "        #eigenvalues in descending order\n",
    "        idx = self.eigenvalues.argsort()[::-1]   \n",
    "        self.eigenvalues = self.eigenvalues[idx]\n",
    "        self.eigenvectors = self.eigenvectors[:,idx]\n",
    "        #Step - 3 - Take the first n principle components stated by user\n",
    "        self.eigenvectors = self.eigenvectors[:,:self.n]\n",
    "        #Step - 4 - Find scores by multiplying it with data\n",
    "        scores = np.dot(self.ip, self.eigenvectors)\n",
    "        return scores\n",
    "    \n",
    "    def getCovariance(self):\n",
    "        return self.covariance\n",
    "    \n",
    "    def getEigenvalues(self):\n",
    "        return self.eigenvalues\n",
    "    \n",
    "    def getEigenvectors(self):\n",
    "        return self.eigenvectors\n",
    "    \n",
    "    def getAllValues(self):\n",
    "        return self.covariance, self.eigenvalues, self.eigenvectors"
   ]
  },
  {
   "cell_type": "code",
   "execution_count": 115,
   "metadata": {},
   "outputs": [],
   "source": [
    "own_pca_testdata_non_standard = OwnPCANonStandard(tdata)"
   ]
  },
  {
   "cell_type": "code",
   "execution_count": 116,
   "metadata": {},
   "outputs": [],
   "source": [
    "scores_non_standard = own_pca_testdata_non_standard.pca()"
   ]
  },
  {
   "cell_type": "code",
   "execution_count": 117,
   "metadata": {},
   "outputs": [
    {
     "data": {
      "text/plain": [
       "array([[  2.67545772e+06    +0.j        ,  -3.60671440e+06    +0.j        ,\n         -1.60847036e+06    +0.j        , ...,\n          5.70794479e+02+18021.33451712j,   2.60623067e+04+14329.83185386j,\n          2.60623067e+04-14329.83185386j],\n       [  2.55452646e+06    +0.j        ,  -3.17447303e+06    +0.j        ,\n         -8.26975757e+04    +0.j        , ...,\n          5.70794479e+02+18021.33451712j,   2.60623067e+04+14329.83185386j,\n          2.60623067e+04-14329.83185386j],\n       [  2.70083724e+06    +0.j        ,  -3.22079630e+06    +0.j        ,\n         -9.51415330e+04    +0.j        , ...,\n          5.70794479e+02+18021.33451712j,   2.60623067e+04+14329.83185386j,\n          2.60623067e+04-14329.83185386j],\n       ..., \n       [  2.97755688e+05    +0.j        ,  -4.16052911e+06    +0.j        ,\n         -2.29646255e+06    +0.j        , ...,\n          5.70794479e+02+18021.33451712j,   2.60623067e+04+14329.83185386j,\n          2.60623067e+04-14329.83185386j],\n       [ -2.74918374e+05    +0.j        ,  -3.15521700e+06    +0.j        ,\n         -1.39081906e+06    +0.j        , ...,\n          5.70794479e+02+18021.33451712j,   2.60623067e+04+14329.83185386j,\n          2.60623067e+04-14329.83185386j],\n       [ -4.90353470e+05    +0.j        ,  -3.59466873e+06    +0.j        ,\n         -1.58378006e+06    +0.j        , ...,\n          5.70794479e+02+18021.33451712j,   2.60623067e+04+14329.83185386j,\n          2.60623067e+04-14329.83185386j]])"
      ]
     },
     "execution_count": 117,
     "metadata": {},
     "output_type": "execute_result"
    }
   ],
   "source": [
    "scores_non_standard"
   ]
  },
  {
   "cell_type": "code",
   "execution_count": 181,
   "metadata": {},
   "outputs": [
    {
     "data": {
      "text/plain": [
       "(1.0002195214538729+0j)"
      ]
     },
     "execution_count": 181,
     "metadata": {},
     "output_type": "execute_result"
    }
   ],
   "source": [
    "#answer is different\n",
    "#The variance\n",
    "np.sum(np.cov(own_pca_testdata_non_standard.getEigenvectors(), rowvar=False).diagonal())"
   ]
  },
  {
   "cell_type": "code",
   "execution_count": 180,
   "metadata": {},
   "outputs": [
    {
     "data": {
      "text/plain": [
       "(1.0002195214538729+0j)"
      ]
     },
     "execution_count": 180,
     "metadata": {},
     "output_type": "execute_result"
    }
   ],
   "source": [
    "#Variance of original data\n",
    "np.sum(np.cov(own_pca_testdata.getEigenvectors(), rowvar=False).diagonal())"
   ]
  },
  {
   "cell_type": "code",
   "execution_count": 126,
   "metadata": {},
   "outputs": [],
   "source": [
    "#Both match. Normalized and raw data pc variance are same"
   ]
  },
  {
   "cell_type": "code",
   "execution_count": 127,
   "metadata": {},
   "outputs": [],
   "source": [
    "#Plot for PCA on raw data which will be the same."
   ]
  },
  {
   "cell_type": "code",
   "execution_count": 128,
   "metadata": {},
   "outputs": [
    {
     "name": "stderr",
     "output_type": "stream",
     "text": [
      "C:\\ProgramData\\Miniconda3\\lib\\site-packages\\numpy\\core\\numeric.py:583: ComplexWarning:\n\nCasting complex values to real discards the imaginary part\n\n"
     ]
    },
    {
     "data": {
      "image/png": "[encoded data removed]",
      "text/plain": [
       "<matplotlib.figure.Figure at 0x229107bdc50>"
      ]
     },
     "metadata": {},
     "output_type": "display_data"
    }
   ],
   "source": [
    "plt.scatter(scores_non_standard[:20,0], scores_non_standard[:20,1], cmap=\"rainbow\")\n",
    "plt.scatter(scores_non_standard[21:40,0], scores_non_standard[21:40,1])\n",
    "plt.show()"
   ]
  },
  {
   "cell_type": "code",
   "execution_count": 129,
   "metadata": {},
   "outputs": [],
   "source": [
    "#For un-normalized"
   ]
  },
  {
   "cell_type": "code",
   "execution_count": 131,
   "metadata": {},
   "outputs": [
    {
     "data": {
      "text/plain": [
       "array([[ 0.01859618+0.j,  0.00277417+0.j],\n       [ 0.00277417+0.j,  0.01739323+0.j]])"
      ]
     },
     "execution_count": 131,
     "metadata": {},
     "output_type": "execute_result"
    }
   ],
   "source": [
    "np.cov(own_pca_testdata_non_standard.getEigenvectors()[:,0], \n",
    "       own_pca_testdata_non_standard.getEigenvectors()[:,1], rowvar=False)\n",
    "#C0-variance between 2 PCA for non standard is also same - 0.00277"
   ]
  },
  {
   "cell_type": "code",
   "execution_count": 132,
   "metadata": {},
   "outputs": [],
   "source": [
    "performance = [i/sum(own_pca_testdata_non_standard.getEigenvalues())*100 for i in own_pca_testdata_non_standard.getEigenvalues()]"
   ]
  },
  {
   "cell_type": "code",
   "execution_count": 133,
   "metadata": {},
   "outputs": [
    {
     "data": {
      "text/plain": [
       "[(40.063899943904438+0j),\n (14.90897134057095+0j),\n (12.996709872406525+0j),\n (9.5348712301466989+0j),\n (6.4404292346208107+0j),\n (3.8147042357559919+0j),\n (2.8828684990928015+0j),\n (2.227699929068097+0j),\n (1.6360170455751757+0j),\n (1.2773307107164396+0j),\n (0.95174613997732804+0j),\n (0.63739437145014433+0j),\n (0.5725040317112523+0j),\n (0.49858974704220377+0j),\n (0.38392465956878996+0j),\n (0.24285880979910299+0j),\n (0.1965329456257269+0j),\n (0.16359056301569547+0j),\n (0.147599433149875+0j),\n (0.13251619459364827+0j),\n (0.071448631909356533+0j),\n (0.047784278396209245+0j),\n (0.039347113610501368+0j),\n (0.027788784263992342+0j),\n (0.022845018724659612+0j),\n (0.017865074672374644+0j),\n (0.015541965167145693+0j),\n (0.011386482189973889+0j),\n (0.0086014789989614163+0j),\n (0.0067056437851393683+0j),\n (0.0059287089617066861+0j),\n (0.0045253565664204205+0j),\n (0.0034271909916841082+0j),\n (0.0022025186833857465+0j),\n (0.001428928383934137+0j),\n (0.0010147308238427494+0j),\n (0.00084578814567382954+0j),\n (0.00037734482599004909+0j),\n (0.00017602310736108379+0j),\n (8.6231917562258503e-16+4.9419236255317516e-16j),\n (8.6231917562258503e-16-4.9419236255317516e-16j),\n (5.6297686671903185e-16+0j),\n (1.7637658268607295e-16+0j),\n (3.3853688966866379e-17+2.1114222065236611e-16j),\n (3.3853688966866379e-17-2.1114222065236611e-16j),\n (-1.475818196299092e-16+2.1009083054837281e-16j),\n (-1.475818196299092e-16-2.1009083054837281e-16j),\n (-2.4625455278232748e-16+9.4686119334420909e-17j),\n (-2.4625455278232748e-16-9.4686119334420909e-17j)]"
      ]
     },
     "execution_count": 133,
     "metadata": {},
     "output_type": "execute_result"
    }
   ],
   "source": [
    "performance"
   ]
  },
  {
   "cell_type": "code",
   "execution_count": 134,
   "metadata": {},
   "outputs": [],
   "source": [
    "#For un-normalized also, plot and performance is same and we need 4 PC for 75% data"
   ]
  },
  {
   "cell_type": "code",
   "execution_count": 135,
   "metadata": {},
   "outputs": [
    {
     "name": "stderr",
     "output_type": "stream",
     "text": [
      "C:\\ProgramData\\Miniconda3\\lib\\site-packages\\numpy\\core\\numeric.py:583: ComplexWarning:\n\nCasting complex values to real discards the imaginary part\n\n"
     ]
    },
    {
     "data": {
      "image/png": "[encoded data removed]",
      "text/plain": [
       "<matplotlib.figure.Figure at 0x229107b5a58>"
      ]
     },
     "metadata": {},
     "output_type": "display_data"
    }
   ],
   "source": [
    "plt.scatter(own_pca_testdata_non_standard.getEigenvectors()[:,0], own_pca_testdata_non_standard.getEigenvectors()[:,1], cmap=\"rainbow\")\n",
    "plt.show()"
   ]
  },
  {
   "cell_type": "code",
   "execution_count": 136,
   "metadata": {},
   "outputs": [],
   "source": [
    "#Above is loadings plot for un-normalized data"
   ]
  },
  {
   "cell_type": "code",
   "execution_count": 137,
   "metadata": {},
   "outputs": [],
   "source": [
    "#Thank you"
   ]
  },
  {
   "cell_type": "code",
   "execution_count": null,
   "metadata": {},
   "outputs": [],
   "source": []
  }
 ],
 "metadata": {
  "kernelspec": {
   "display_name": "Python 2",
   "language": "python",
   "name": "python2"
  },
  "language_info": {
   "codemirror_mode": {
    "name": "ipython",
    "version": 2
   },
   "file_extension": ".py",
   "mimetype": "text/x-python",
   "name": "python",
   "nbconvert_exporter": "python",
   "pygments_lexer": "ipython2",
   "version": "2.7.6"
  }
 },
 "nbformat": 4,
 "nbformat_minor": 0
}
